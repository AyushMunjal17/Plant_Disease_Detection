{
 "cells": [
  {
   "cell_type": "code",
   "execution_count": 1,
   "metadata": {},
   "outputs": [],
   "source": [
    "import tensorflow as tf\n",
    "import matplotlib.pyplot as plt\n"
   ]
  },
  {
   "cell_type": "code",
   "execution_count": 3,
   "metadata": {},
   "outputs": [
    {
     "name": "stdout",
     "output_type": "stream",
     "text": [
      "Found 70295 files belonging to 38 classes.\n"
     ]
    },
    {
     "data": {
      "text/plain": [
       "<_PrefetchDataset element_spec=(TensorSpec(shape=(None, 128, 128, 3), dtype=tf.float32, name=None), TensorSpec(shape=(None, 38), dtype=tf.float32, name=None))>"
      ]
     },
     "execution_count": 3,
     "metadata": {},
     "output_type": "execute_result"
    }
   ],
   "source": [
    "##Training Image Preprocessing\n",
    "training_set = tf.keras.utils.image_dataset_from_directory(\n",
    "    'train',\n",
    "    labels=\"inferred\",\n",
    "    label_mode=\"categorical\",\n",
    "    class_names=None,\n",
    "    color_mode=\"rgb\",\n",
    "    batch_size=32,\n",
    "    image_size=(128,128),\n",
    "    shuffle=True,\n",
    "    seed=None,\n",
    "    validation_split=None,\n",
    "    subset=None,\n",
    "    interpolation=\"bilinear\",\n",
    "    follow_links=False,\n",
    "    crop_to_aspect_ratio=False,\n",
    "    pad_to_aspect_ratio=False,\n",
    "    data_format=None,\n",
    "    verbose=True,\n",
    ")\n"
   ]
  },
  {
   "cell_type": "code",
   "execution_count": 3,
   "metadata": {},
   "outputs": [
    {
     "name": "stdout",
     "output_type": "stream",
     "text": [
      "Found 17572 files belonging to 38 classes.\n"
     ]
    }
   ],
   "source": [
    "##Validation Image Preprocessing\n",
    "validation_set = tf.keras.utils.image_dataset_from_directory(\n",
    "    'valid',\n",
    "    labels=\"inferred\",\n",
    "    label_mode=\"categorical\",\n",
    "    class_names=None,\n",
    "    color_mode=\"rgb\",\n",
    "    batch_size=32,\n",
    "    image_size=(128,128),\n",
    "    shuffle=True,\n",
    "    seed=None,\n",
    "    validation_split=None,\n",
    "    subset=None,\n",
    "    interpolation=\"bilinear\",\n",
    "    follow_links=False,\n",
    "    crop_to_aspect_ratio=False,\n",
    "    pad_to_aspect_ratio=False,\n",
    "    data_format=None,\n",
    "    verbose=True,\n",
    ")"
   ]
  },
  {
   "cell_type": "code",
   "execution_count": 5,
   "metadata": {},
   "outputs": [
    {
     "name": "stderr",
     "output_type": "stream",
     "text": [
      "c:\\Users\\user\\OneDrive\\Desktop\\plantdisproj\\myenv\\Lib\\site-packages\\keras\\src\\layers\\convolutional\\base_conv.py:107: UserWarning: Do not pass an `input_shape`/`input_dim` argument to a layer. When using Sequential models, prefer using an `Input(shape)` object as the first layer in the model instead.\n",
      "  super().__init__(activity_regularizer=activity_regularizer, **kwargs)\n"
     ]
    }
   ],
   "source": [
    "from tensorflow.keras.layers import Dense,Conv2D,MaxPool2D,Flatten,Dropout\n",
    "from tensorflow.keras.models import Sequential\n",
    "model = Sequential()\n",
    "\n",
    "## Building convolution layer\n",
    "model.add(Conv2D(filters=32,kernel_size=3,padding='same',activation='relu',input_shape=[128,128,3]))\n",
    "model.add(Conv2D(filters=32,kernel_size=3,activation='relu'))\n",
    "model.add(MaxPool2D(pool_size = 2, strides = 2))\n",
    "\n",
    "model.add(Conv2D(filters=64,kernel_size=3,padding='same',activation='relu'))\n",
    "model.add(Conv2D(filters=64,kernel_size=3,activation= 'relu'))\n",
    "model.add(MaxPool2D(pool_size = 2, strides = 2))\n",
    "\n",
    "model.add(Conv2D(filters=128,kernel_size=3,padding='same',activation='relu'))\n",
    "model.add(Conv2D(filters=128,kernel_size=3,activation='relu'))\n",
    "model.add(MaxPool2D(pool_size = 2, strides = 2))\n",
    "\n",
    "model.add(Conv2D(filters=256,kernel_size=3,padding='same',activation='relu'))\n",
    "model.add(Conv2D(filters=256,kernel_size=3,activation='relu'))\n",
    "model.add(MaxPool2D(pool_size = 2, strides = 2))\n",
    "\n",
    "model.add(Conv2D(filters=512,kernel_size=3,padding='same',activation='relu'))\n",
    "model.add(Conv2D(filters=512,kernel_size=3,activation='relu'))\n",
    "model.add(MaxPool2D(pool_size = 2, strides = 2))\n",
    "\n",
    "model.add(Dropout(0.25))\n",
    "\n",
    "model.add(Flatten())\n",
    "model.add(Dense(units = 1500, activation='relu'))\n",
    "\n",
    "model.add(Dropout(0.40))\n",
    "\n",
    "##output layer\n",
    "model.add(Dense(units=38, activation='softmax'))"
   ]
  },
  {
   "cell_type": "code",
   "execution_count": null,
   "metadata": {},
   "outputs": [],
   "source": [
    "##compliling model\n",
    "model.compile(optimizer = tf.keras.optimizers.Adam(\n",
    "    learning_rate=0.0001),loss='categorical_crossentropy',metrics=['accuracy'])\n"
   ]
  },
  {
   "cell_type": "code",
   "execution_count": 7,
   "metadata": {},
   "outputs": [
    {
     "name": "stdout",
     "output_type": "stream",
     "text": [
      "Epoch 1/10\n",
      "\u001b[1m2197/2197\u001b[0m \u001b[32m━━━━━━━━━━━━━━━━━━━━\u001b[0m\u001b[37m\u001b[0m \u001b[1m3249s\u001b[0m 1s/step - accuracy: 0.3881 - loss: 2.1997 - val_accuracy: 0.8289 - val_loss: 0.5365\n",
      "Epoch 2/10\n",
      "\u001b[1m2197/2197\u001b[0m \u001b[32m━━━━━━━━━━━━━━━━━━━━\u001b[0m\u001b[37m\u001b[0m \u001b[1m3022s\u001b[0m 1s/step - accuracy: 0.8336 - loss: 0.5334 - val_accuracy: 0.8922 - val_loss: 0.3467\n",
      "Epoch 3/10\n",
      "\u001b[1m2197/2197\u001b[0m \u001b[32m━━━━━━━━━━━━━━━━━━━━\u001b[0m\u001b[37m\u001b[0m \u001b[1m2828s\u001b[0m 1s/step - accuracy: 0.9044 - loss: 0.2974 - val_accuracy: 0.9104 - val_loss: 0.2775\n",
      "Epoch 4/10\n",
      "\u001b[1m2197/2197\u001b[0m \u001b[32m━━━━━━━━━━━━━━━━━━━━\u001b[0m\u001b[37m\u001b[0m \u001b[1m2987s\u001b[0m 1s/step - accuracy: 0.9351 - loss: 0.2033 - val_accuracy: 0.9091 - val_loss: 0.2761\n",
      "Epoch 5/10\n",
      "\u001b[1m2197/2197\u001b[0m \u001b[32m━━━━━━━━━━━━━━━━━━━━\u001b[0m\u001b[37m\u001b[0m \u001b[1m2891s\u001b[0m 1s/step - accuracy: 0.9501 - loss: 0.1513 - val_accuracy: 0.9115 - val_loss: 0.2862\n",
      "Epoch 6/10\n",
      "\u001b[1m2197/2197\u001b[0m \u001b[32m━━━━━━━━━━━━━━━━━━━━\u001b[0m\u001b[37m\u001b[0m \u001b[1m2982s\u001b[0m 1s/step - accuracy: 0.9606 - loss: 0.1209 - val_accuracy: 0.9471 - val_loss: 0.1725\n",
      "Epoch 7/10\n",
      "\u001b[1m2197/2197\u001b[0m \u001b[32m━━━━━━━━━━━━━━━━━━━━\u001b[0m\u001b[37m\u001b[0m \u001b[1m2891s\u001b[0m 1s/step - accuracy: 0.9689 - loss: 0.0949 - val_accuracy: 0.9556 - val_loss: 0.1515\n",
      "Epoch 8/10\n",
      "\u001b[1m2197/2197\u001b[0m \u001b[32m━━━━━━━━━━━━━━━━━━━━\u001b[0m\u001b[37m\u001b[0m \u001b[1m2993s\u001b[0m 1s/step - accuracy: 0.9740 - loss: 0.0790 - val_accuracy: 0.9581 - val_loss: 0.1492\n",
      "Epoch 9/10\n",
      "\u001b[1m2197/2197\u001b[0m \u001b[32m━━━━━━━━━━━━━━━━━━━━\u001b[0m\u001b[37m\u001b[0m \u001b[1m2903s\u001b[0m 1s/step - accuracy: 0.9773 - loss: 0.0687 - val_accuracy: 0.9609 - val_loss: 0.1412\n",
      "Epoch 10/10\n",
      "\u001b[1m2197/2197\u001b[0m \u001b[32m━━━━━━━━━━━━━━━━━━━━\u001b[0m\u001b[37m\u001b[0m \u001b[1m2969s\u001b[0m 1s/step - accuracy: 0.9776 - loss: 0.0675 - val_accuracy: 0.9581 - val_loss: 0.1472\n"
     ]
    }
   ],
   "source": [
    "##model training\n",
    "training_history = model.fit(x=training_set, validation_data=validation_set,epochs=10)"
   ]
  },
  {
   "cell_type": "code",
   "execution_count": 8,
   "metadata": {},
   "outputs": [
    {
     "name": "stdout",
     "output_type": "stream",
     "text": [
      "\u001b[1m2197/2197\u001b[0m \u001b[32m━━━━━━━━━━━━━━━━━━━━\u001b[0m\u001b[37m\u001b[0m \u001b[1m847s\u001b[0m 385ms/step - accuracy: 0.9845 - loss: 0.0491\n",
      "0.04599731042981148 0.9856177568435669\n",
      "\u001b[1m550/550\u001b[0m \u001b[32m━━━━━━━━━━━━━━━━━━━━\u001b[0m\u001b[37m\u001b[0m \u001b[1m211s\u001b[0m 383ms/step - accuracy: 0.9579 - loss: 0.1457\n",
      "0.14723928272724152 0.9581151604652405\n"
     ]
    }
   ],
   "source": [
    "##Model evaluation\n",
    "train_loss,train_acc = model.evaluate(training_set)\n",
    "print(train_loss,train_acc)\n",
    "\n",
    "val_loss,val_acc = model.evaluate(validation_set)\n",
    "print(val_loss,val_acc)"
   ]
  },
  {
   "cell_type": "code",
   "execution_count": 9,
   "metadata": {},
   "outputs": [
    {
     "data": {
      "text/plain": [
       "{'accuracy': [0.5957038402557373,\n",
       "  0.8562771081924438,\n",
       "  0.9142186641693115,\n",
       "  0.9393840432167053,\n",
       "  0.9548189640045166,\n",
       "  0.9639519453048706,\n",
       "  0.9699693918228149,\n",
       "  0.975446343421936,\n",
       "  0.9793441891670227,\n",
       "  0.9801408648490906],\n",
       " 'loss': [1.384469747543335,\n",
       "  0.4566444754600525,\n",
       "  0.2668454349040985,\n",
       "  0.1884039044380188,\n",
       "  0.13755618035793304,\n",
       "  0.11025972664356232,\n",
       "  0.09105412662029266,\n",
       "  0.07475025206804276,\n",
       "  0.06344657391309738,\n",
       "  0.06056475266814232],\n",
       " 'val_accuracy': [0.8289324045181274,\n",
       "  0.8921579718589783,\n",
       "  0.9103687405586243,\n",
       "  0.909116804599762,\n",
       "  0.9115069508552551,\n",
       "  0.9471318125724792,\n",
       "  0.9555543065071106,\n",
       "  0.9580582976341248,\n",
       "  0.9609037041664124,\n",
       "  0.9581151604652405],\n",
       " 'val_loss': [0.5365239977836609,\n",
       "  0.34666019678115845,\n",
       "  0.27750498056411743,\n",
       "  0.2761360704898834,\n",
       "  0.2862425446510315,\n",
       "  0.17247678339481354,\n",
       "  0.151492178440094,\n",
       "  0.14920450747013092,\n",
       "  0.14115235209465027,\n",
       "  0.14723919332027435]}"
      ]
     },
     "execution_count": 9,
     "metadata": {},
     "output_type": "execute_result"
    }
   ],
   "source": [
    "##saving model\n",
    "model.save(\"trained_model.keras\")\n",
    "training_history.history\n"
   ]
  },
  {
   "cell_type": "code",
   "execution_count": 10,
   "metadata": {},
   "outputs": [],
   "source": [
    "##recording history in json\n",
    "import json\n",
    "with open(\"training_hist.json\",\"w\") as f:\n",
    "    json.dump(training_history.history,f)"
   ]
  },
  {
   "cell_type": "code",
   "execution_count": 11,
   "metadata": {},
   "outputs": [
    {
     "data": {
      "image/png": "[encoded data removed]",
      "text/plain": [
       "<Figure size 640x480 with 1 Axes>"
      ]
     },
     "metadata": {},
     "output_type": "display_data"
    }
   ],
   "source": [
    "##Accuracy Visualization\n",
    "epochs = [i for i in range(1,11)]\n",
    "plt.plot(epochs,training_history.history['accuracy'],color='red',label='Training Accuracy')\n",
    "plt.plot(epochs,training_history.history['val_accuracy'],color='blue',label='Validation Accuracy')\n",
    "plt.xlabel(\"No of Epochs\")\n",
    "plt.ylabel(\"Accuracy Result\")\n",
    "plt.title(\"Visualization of Accuracy Result\")\n",
    "plt.legend()\n",
    "plt.show()"
   ]
  },
  {
   "cell_type": "code",
   "execution_count": 13,
   "metadata": {},
   "outputs": [
    {
     "name": "stdout",
     "output_type": "stream",
     "text": [
      "Found 17572 files belonging to 38 classes.\n",
      "\u001b[1m550/550\u001b[0m \u001b[32m━━━━━━━━━━━━━━━━━━━━\u001b[0m\u001b[37m\u001b[0m \u001b[1m339s\u001b[0m 612ms/step\n",
      "                                                    precision    recall  f1-score   support\n",
      "\n",
      "                                Apple___Apple_scab       0.98      0.94      0.96       504\n",
      "                                 Apple___Black_rot       1.00      0.92      0.96       497\n",
      "                          Apple___Cedar_apple_rust       0.99      0.97      0.98       440\n",
      "                                   Apple___healthy       0.96      0.93      0.95       502\n",
      "                               Blueberry___healthy       0.95      0.98      0.97       454\n",
      "          Cherry_(including_sour)___Powdery_mildew       0.99      0.99      0.99       421\n",
      "                 Cherry_(including_sour)___healthy       0.96      0.98      0.97       456\n",
      "Corn_(maize)___Cercospora_leaf_spot Gray_leaf_spot       0.97      0.87      0.92       410\n",
      "                       Corn_(maize)___Common_rust_       0.99      1.00      0.99       477\n",
      "               Corn_(maize)___Northern_Leaf_Blight       0.91      0.98      0.94       477\n",
      "                            Corn_(maize)___healthy       0.99      1.00      0.99       465\n",
      "                                 Grape___Black_rot       1.00      0.92      0.96       472\n",
      "                      Grape___Esca_(Black_Measles)       0.95      1.00      0.97       480\n",
      "        Grape___Leaf_blight_(Isariopsis_Leaf_Spot)       0.99      0.99      0.99       430\n",
      "                                   Grape___healthy       1.00      1.00      1.00       423\n",
      "          Orange___Haunglongbing_(Citrus_greening)       0.99      0.99      0.99       503\n",
      "                            Peach___Bacterial_spot       0.98      0.88      0.93       459\n",
      "                                   Peach___healthy       0.99      0.98      0.98       432\n",
      "                     Pepper,_bell___Bacterial_spot       0.95      0.93      0.94       478\n",
      "                            Pepper,_bell___healthy       0.98      0.95      0.96       497\n",
      "                             Potato___Early_blight       1.00      0.93      0.96       485\n",
      "                              Potato___Late_blight       0.98      0.93      0.95       485\n",
      "                                  Potato___healthy       0.91      0.99      0.95       456\n",
      "                               Raspberry___healthy       0.97      0.99      0.98       445\n",
      "                                 Soybean___healthy       1.00      0.91      0.95       505\n",
      "                           Squash___Powdery_mildew       0.98      1.00      0.99       434\n",
      "                          Strawberry___Leaf_scorch       0.98      0.97      0.98       444\n",
      "                              Strawberry___healthy       0.98      1.00      0.99       456\n",
      "                           Tomato___Bacterial_spot       0.96      0.95      0.95       425\n",
      "                             Tomato___Early_blight       0.93      0.84      0.88       480\n",
      "                              Tomato___Late_blight       0.86      0.95      0.90       463\n",
      "                                Tomato___Leaf_Mold       0.91      0.98      0.95       470\n",
      "                       Tomato___Septoria_leaf_spot       0.77      0.93      0.84       436\n",
      "     Tomato___Spider_mites Two-spotted_spider_mite       0.95      0.93      0.94       435\n",
      "                              Tomato___Target_Spot       0.90      0.95      0.93       457\n",
      "            Tomato___Tomato_Yellow_Leaf_Curl_Virus       0.96      1.00      0.98       490\n",
      "                      Tomato___Tomato_mosaic_virus       0.95      1.00      0.97       448\n",
      "                                  Tomato___healthy       0.98      0.99      0.99       481\n",
      "\n",
      "                                          accuracy                           0.96     17572\n",
      "                                         macro avg       0.96      0.96      0.96     17572\n",
      "                                      weighted avg       0.96      0.96      0.96     17572\n",
      "\n"
     ]
    }
   ],
   "source": [
    "##Some other metrics for model evaulation\n",
    "class_name = validation_set.class_names\n",
    "\n",
    "test_set = tf.keras.utils.image_dataset_from_directory(\n",
    "    'valid',\n",
    "    labels=\"inferred\",\n",
    "    label_mode=\"categorical\",\n",
    "    class_names=None,\n",
    "    color_mode=\"rgb\",\n",
    "    batch_size=32,\n",
    "    image_size=(128,128),\n",
    "    shuffle=False,\n",
    "    seed=None,\n",
    "    validation_split=None,\n",
    "    subset=None,\n",
    "    interpolation=\"bilinear\",\n",
    "    follow_links=False,\n",
    "    crop_to_aspect_ratio=False,\n",
    "    pad_to_aspect_ratio=False,\n",
    "    data_format=None,\n",
    "    verbose=True,\n",
    ")\n",
    "\n",
    "y_pred = model.predict(test_set)\n",
    "y_pred\n",
    "\n",
    "predicted_categories = tf.argmax(y_pred,axis=1)\n",
    "\n",
    "true_categories = tf.concat([y for x,y in test_set],axis=0)\n",
    "Y_true = tf.argmax(true_categories,axis=1)\n",
    "\n",
    "from sklearn.metrics import classification_report\n",
    "print(classification_report(Y_true,predicted_categories,target_names=class_name))\n",
    "\n"
   ]
  }
 ],
 "metadata": {
  "kernelspec": {
   "display_name": "myenv",
   "language": "python",
   "name": "python3"
  },
  "language_info": {
   "codemirror_mode": {
    "name": "ipython",
    "version": 3
   },
   "file_extension": ".py",
   "mimetype": "text/x-python",
   "name": "python",
   "nbconvert_exporter": "python",
   "pygments_lexer": "ipython3",
   "version": "3.12.0"
  }
 },
 "nbformat": 4,
 "nbformat_minor": 2
}
